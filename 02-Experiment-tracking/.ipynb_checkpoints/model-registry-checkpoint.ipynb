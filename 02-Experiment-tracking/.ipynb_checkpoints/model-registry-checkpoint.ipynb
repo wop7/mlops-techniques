{
 "cells": [
  {
   "cell_type": "code",
   "execution_count": 1,
   "id": "ea157144-d2de-4879-9901-bf5c2f1add38",
   "metadata": {},
   "outputs": [],
   "source": [
    "from mlflow.tracking import MlflowClient\n",
    "\n",
    "\n",
    "MLFLOW_TRACKING_URI = \"sqlite:///mlflow.db\""
   ]
  },
  {
   "cell_type": "markdown",
   "id": "21fd97a5-0d2b-4f0f-b173-11133ee7b23e",
   "metadata": {},
   "source": [
    "The MlflowClient object allows us to interact with...\n",
    "\n",
    " * an MLflow Tracking Server that creates and manages experiments and runs.\n",
    "* an MLflow Registry Server that creates and manages registered models and model versions."
   ]
  },
  {
   "cell_type": "code",
   "execution_count": 4,
   "id": "257a8359-1a53-4ad2-a123-bbae638c297b",
   "metadata": {},
   "outputs": [
    {
     "data": {
      "text/plain": [
       "[<Experiment: artifact_location='/workspaces/mlops-techniques/02-Experiment-tracking/mlruns/1', creation_time=1736001296237, experiment_id='1', last_update_time=1736001296237, lifecycle_stage='active', name='nyc-taxi-experiment', tags={}>,\n",
       " <Experiment: artifact_location='mlflow-artifacts:/0', creation_time=1736000145875, experiment_id='0', last_update_time=1736000145875, lifecycle_stage='active', name='Default', tags={}>]"
      ]
     },
     "execution_count": 4,
     "metadata": {},
     "output_type": "execute_result"
    }
   ],
   "source": [
    "client = MlflowClient(tracking_uri=MLFLOW_TRACKING_URI)\n",
    "\n",
    "client.search_experiments()"
   ]
  },
  {
   "cell_type": "code",
   "execution_count": 5,
   "id": "dfd3fef0-15e1-4567-9558-fb4b1a53530f",
   "metadata": {},
   "outputs": [
    {
     "data": {
      "text/plain": [
       "'2'"
      ]
     },
     "execution_count": 5,
     "metadata": {},
     "output_type": "execute_result"
    }
   ],
   "source": [
    "#criar um novo experimento\n",
    "client.create_experiment(name=\"test-experiment\")"
   ]
  },
  {
   "cell_type": "markdown",
   "id": "c281f844-5aa4-47d0-a99f-834c4f6afd12",
   "metadata": {},
   "source": [
    "Vamos verificar as versões mais recentes para o experimento com ID 1"
   ]
  },
  {
   "cell_type": "code",
   "execution_count": 6,
   "id": "a285b2fc-e24b-4939-8291-b2eab14ef090",
   "metadata": {},
   "outputs": [],
   "source": [
    "from mlflow.entities import ViewType\n",
    "\n",
    "runs = client.search_runs(\n",
    "    experiment_ids='1',                         # ID do experimento onde os runs serão pesquisados\n",
    "    filter_string=\"metrics.rmse < 7\",           # Filtro para selecionar runs com métrica 'rmse' menor que 7\n",
    "    run_view_type=ViewType.ACTIVE_ONLY,         # Considera apenas runs com status \"ativo\" (não excluídos ou arquivados)\n",
    "    max_results=5,                              # Limita a busca a no máximo 5 runs\n",
    "    order_by=[\"metrics.rmse ASC\"]               # Ordena os runs pelo valor da métrica 'rmse' em ordem crescente\n",
    ")\n"
   ]
  },
  {
   "cell_type": "code",
   "execution_count": 7,
   "id": "cfb1ccec-d555-4fd8-a52d-ab29156f8687",
   "metadata": {},
   "outputs": [
    {
     "name": "stdout",
     "output_type": "stream",
     "text": [
      "run id: db537e71f5ce45d2ad8a6a57210eac74, rmse: 6.3184\n",
      "run id: 247b6455fee74cccaeb4e3d61c7b35fa, rmse: 6.3184\n",
      "run id: d6db051b93f94639b05b297543fc7508, rmse: 6.3449\n",
      "run id: 388e7da7bd42493bbe5655b0450cda2c, rmse: 6.3652\n",
      "run id: 1581de318fba4f1fa1e0d179ae60caf5, rmse: 6.4460\n"
     ]
    }
   ],
   "source": [
    "for run in runs:\n",
    "    print(f\"run id: {run.info.run_id}, rmse: {run.data.metrics['rmse']:.4f}\")"
   ]
  },
  {
   "cell_type": "markdown",
   "id": "ad7501a6-3b91-45a7-9f8e-9d8f9b1287a4",
   "metadata": {},
   "source": [
    "## Model Registry"
   ]
  },
  {
   "cell_type": "code",
   "execution_count": 8,
   "id": "bef59475-e436-4f17-b69b-0541f5f18fca",
   "metadata": {},
   "outputs": [],
   "source": [
    "import mlflow\n",
    "\n",
    "mlflow.set_tracking_uri(MLFLOW_TRACKING_URI)"
   ]
  },
  {
   "cell_type": "code",
   "execution_count": 11,
   "id": "870b5662-3e34-4ab0-8a81-7837a6eaa353",
   "metadata": {},
   "outputs": [
    {
     "name": "stderr",
     "output_type": "stream",
     "text": [
      "Registered model 'taxi-regressor' already exists. Creating a new version of this model...\n",
      "Created version '3' of model 'taxi-regressor'.\n"
     ]
    },
    {
     "data": {
      "text/plain": [
       "<ModelVersion: aliases=[], creation_timestamp=1736693936489, current_stage='None', description=None, last_updated_timestamp=1736693936489, name='taxi-regressor', run_id='1581de318fba4f1fa1e0d179ae60caf5', run_link=None, source='/workspaces/mlops-techniques/02-Experiment-tracking/mlruns/1/1581de318fba4f1fa1e0d179ae60caf5/artifacts/model', status='READY', status_message=None, tags={}, user_id=None, version=3>"
      ]
     },
     "execution_count": 11,
     "metadata": {},
     "output_type": "execute_result"
    }
   ],
   "source": [
    "run_id = \"1581de318fba4f1fa1e0d179ae60caf5\"      # ID único do run no MLflow que contém o modelo a ser registrado\n",
    "model_uri = f\"runs:/{run_id}/model\"             # URI do modelo salvo no run específico\n",
    "mlflow.register_model(model_uri=model_uri, name=\"taxi-regressor\")  # Registra o modelo no MLflow Model Registry\n"
   ]
  },
  {
   "cell_type": "code",
   "execution_count": 14,
   "id": "9c4fe5d9-faee-43c3-affc-23f3dad1f382",
   "metadata": {},
   "outputs": [
    {
     "name": "stdout",
     "output_type": "stream",
     "text": [
      "Version: 3\n",
      "Stage: None\n",
      "Status: READY\n",
      "Run ID: 1581de318fba4f1fa1e0d179ae60caf5\n",
      "URI: /workspaces/mlops-techniques/02-Experiment-tracking/mlruns/1/1581de318fba4f1fa1e0d179ae60caf5/artifacts/model\n",
      "------------------------------\n"
     ]
    }
   ],
   "source": [
    "model_name = \"taxi-regressor\"                              # Nome do modelo registrado no MLflow Model Registry\n",
    "registered_model  = client.get_registered_model(name=model_name)  #\n",
    "\n",
    "for version in registered_model.latest_versions:\n",
    "    print(f\"Version: {version.version}\")\n",
    "    print(f\"Stage: {version.current_stage}\")\n",
    "    print(f\"Status: {version.status}\")\n",
    "    print(f\"Run ID: {version.run_id}\")\n",
    "    print(f\"URI: {version.source}\")\n",
    "    print(\"-\" * 30)"
   ]
  },
  {
   "cell_type": "code",
   "execution_count": 15,
   "id": "b7dbfd65-1654-4632-bc0a-6ae8aed0836c",
   "metadata": {},
   "outputs": [
    {
     "name": "stdout",
     "output_type": "stream",
     "text": [
      "O modelo 'taxi-regressor' possui 3 versão(ões) registrada(s).\n",
      "Version: 3, Stage: None, Status: READY\n",
      "Version: 1, Stage: None, Status: READY\n",
      "Version: 2, Stage: None, Status: READY\n"
     ]
    }
   ],
   "source": [
    "# Nome do modelo registrado\n",
    "model_name = \"taxi-regressor\"\n",
    "\n",
    "# Obtendo todas as versões do modelo registrado\n",
    "model_versions = client.search_model_versions(f\"name='{model_name}'\")\n",
    "\n",
    "# Contando o número total de versões\n",
    "num_versions = len(model_versions)\n",
    "print(f\"O modelo '{model_name}' possui {num_versions} versão(ões) registrada(s).\")\n",
    "\n",
    "# Exibindo as informações de cada versão (opcional)\n",
    "for version in model_versions:\n",
    "    print(f\"Version: {version.version}, Stage: {version.current_stage}, Status: {version.status}\")"
   ]
  },
  {
   "cell_type": "code",
   "execution_count": 16,
   "id": "c8c5c3a2-5a14-4e45-bd07-3a1cc730fa94",
   "metadata": {},
   "outputs": [
    {
     "name": "stderr",
     "output_type": "stream",
     "text": [
      "/tmp/ipykernel_6604/1957332551.py:3: FutureWarning: ``mlflow.tracking.client.MlflowClient.transition_model_version_stage`` is deprecated since 2.9.0. Model registry stages will be removed in a future major release. To learn more about the deprecation of model registry stages, see our migration guide here: https://mlflow.org/docs/latest/model-registry.html#migrating-from-stages\n",
      "  client.transition_model_version_stage(\n"
     ]
    },
    {
     "data": {
      "text/plain": [
       "<ModelVersion: aliases=[], creation_timestamp=1736693936489, current_stage='Staging', description=None, last_updated_timestamp=1736694436154, name='taxi-regressor', run_id='1581de318fba4f1fa1e0d179ae60caf5', run_link=None, source='/workspaces/mlops-techniques/02-Experiment-tracking/mlruns/1/1581de318fba4f1fa1e0d179ae60caf5/artifacts/model', status='READY', status_message=None, tags={}, user_id=None, version=3>"
      ]
     },
     "execution_count": 16,
     "metadata": {},
     "output_type": "execute_result"
    }
   ],
   "source": [
    "model_version = 3\n",
    "new_stage = \"Staging\"\n",
    "client.transition_model_version_stage(\n",
    "    name=model_name,\n",
    "    version=model_version,\n",
    "    stage=new_stage,\n",
    "    archive_existing_versions=False\n",
    ")"
   ]
  },
  {
   "cell_type": "code",
   "execution_count": 30,
   "id": "f1ba3475-3a73-4c02-9476-406a090be926",
   "metadata": {},
   "outputs": [
    {
     "name": "stderr",
     "output_type": "stream",
     "text": [
      "/tmp/ipykernel_6604/196262431.py:3: FutureWarning: ``mlflow.tracking.client.MlflowClient.transition_model_version_stage`` is deprecated since 2.9.0. Model registry stages will be removed in a future major release. To learn more about the deprecation of model registry stages, see our migration guide here: https://mlflow.org/docs/latest/model-registry.html#migrating-from-stages\n",
      "  client.transition_model_version_stage(\n"
     ]
    },
    {
     "data": {
      "text/plain": [
       "<ModelVersion: aliases=['production'], creation_timestamp=1736692074061, current_stage='Production', description='model registration test', last_updated_timestamp=1736696514249, name='taxi-regressor', run_id='db537e71f5ce45d2ad8a6a57210eac74', run_link='', source='/workspaces/mlops-techniques/02-Experiment-tracking/mlruns/1/db537e71f5ce45d2ad8a6a57210eac74/artifacts/models_mlflow', status='READY', status_message=None, tags={'model': 'Xgboost'}, user_id=None, version=1>"
      ]
     },
     "execution_count": 30,
     "metadata": {},
     "output_type": "execute_result"
    }
   ],
   "source": [
    "model_version = 1\n",
    "new_stage = \"Production\"\n",
    "client.transition_model_version_stage(\n",
    "    name=model_name,\n",
    "    version=model_version,\n",
    "    stage=new_stage,\n",
    "    archive_existing_versions=False\n",
    ")"
   ]
  },
  {
   "cell_type": "code",
   "execution_count": 17,
   "id": "bb57d67b-5b95-4612-b389-6181941cf2a7",
   "metadata": {},
   "outputs": [
    {
     "name": "stdout",
     "output_type": "stream",
     "text": [
      "O modelo 'taxi-regressor' possui 3 versão(ões) registrada(s).\n",
      "Version: 3, Stage: Staging, Status: READY\n",
      "Version: 1, Stage: None, Status: READY\n",
      "Version: 2, Stage: None, Status: READY\n"
     ]
    }
   ],
   "source": [
    "# Nome do modelo registrado\n",
    "model_name = \"taxi-regressor\"\n",
    "\n",
    "# Obtendo todas as versões do modelo registrado\n",
    "model_versions = client.search_model_versions(f\"name='{model_name}'\")\n",
    "\n",
    "# Contando o número total de versões\n",
    "num_versions = len(model_versions)\n",
    "print(f\"O modelo '{model_name}' possui {num_versions} versão(ões) registrada(s).\")\n",
    "\n",
    "# Exibindo as informações de cada versão (opcional)\n",
    "for version in model_versions:\n",
    "    print(f\"Version: {version.version}, Stage: {version.current_stage}, Status: {version.status}\")"
   ]
  },
  {
   "cell_type": "code",
   "execution_count": 18,
   "id": "dd27a56f-7ddd-4353-a4c5-baa0c8c4c2b2",
   "metadata": {},
   "outputs": [
    {
     "data": {
      "text/plain": [
       "<ModelVersion: aliases=[], creation_timestamp=1736693936489, current_stage='Staging', description='The model version 3 was transitioned to Staging on 2025-01-12', last_updated_timestamp=1736694797845, name='taxi-regressor', run_id='1581de318fba4f1fa1e0d179ae60caf5', run_link=None, source='/workspaces/mlops-techniques/02-Experiment-tracking/mlruns/1/1581de318fba4f1fa1e0d179ae60caf5/artifacts/model', status='READY', status_message=None, tags={}, user_id=None, version=3>"
      ]
     },
     "execution_count": 18,
     "metadata": {},
     "output_type": "execute_result"
    }
   ],
   "source": [
    "from datetime import datetime \n",
    "\n",
    "date = datetime.today().date()  # Obtém a data atual (somente a parte da data, sem o horário)\n",
    "\n",
    "client.update_model_version(  # Atualiza a descrição de uma versão específica do modelo no Model Registry\n",
    "    name=model_name,  # Nome do modelo registrado no MLflow\n",
    "    version=model_version,  # Número da versão do modelo que será atualizada\n",
    "    description=f\"The model version {model_version} was transitioned to {new_stage} on {date}\"\n",
    "    # Define a nova descrição para a versão do modelo, informando o estágio (new_stage) e a data da transição\n",
    ")\n"
   ]
  },
  {
   "cell_type": "markdown",
   "id": "2263cde8-14ab-4bc5-8fa9-8c72ac8cf760",
   "metadata": {},
   "source": [
    "\n",
    "#### Comparando versões e selecionando o novo modelo \"Production\"\n",
    "Na última seção, vamos recuperar os modelos registrados no Model Registry e comparar seu desempenho em um conjunto de teste não visto. A ideia é simular o cenário em que um engenheiro de implantação precisa interagir com o registro de modelos para decidir se deve atualizar a versão do modelo que está em produção ou não.\n",
    "\n",
    "Passos a serem seguidos:\n",
    "\n",
    "* 1 - Carregar o conjunto de dados de teste, que corresponde aos dados do NYC Green Taxi do mês de março de 2021.\n",
    "* 2 - Baixar o DictVectorizer que foi ajustado usando os dados de treinamento e salvo no MLflow como um artefato, e carregá-lo com o módulo pickle.\n",
    "* 3 - Pré-processar o conjunto de teste usando o DictVectorizer para que possamos alimentá-lo corretamente nos regressores.\n",
    "* 4 - Fazer previsões no conjunto de teste usando as versões do modelo que estão atualmente nos estágios \"Staging\" e \"Production\", e comparar seus desempenhos.\n",
    "* 5 - Com base nos resultados, atualizar a versão do modelo \"Production\" de acordo.\n",
    "\n",
    "Nota: O Model Registry não implanta o modelo na produção ao transicionar um modelo para o estágio \"Production\"; ele apenas atribui um rótulo àquela versão do modelo. É necessário complementar o registro com algum código de CI/CD para realizar a implantação de fato."
   ]
  },
  {
   "cell_type": "code",
   "execution_count": 37,
   "id": "a094573f-7616-4abe-8fea-a6ffca245a33",
   "metadata": {},
   "outputs": [],
   "source": [
    "from sklearn.metrics import mean_squared_error, root_mean_squared_error\n",
    "\n",
    "import pandas as pd\n",
    "\n",
    "# Função para ler e processar o arquivo CSV\n",
    "def read_dataframe(filename):\n",
    "    # Lê o arquivo CSV em um DataFrame\n",
    "    df = pd.read_parquet(filename)\n",
    "\n",
    "    # Converte as colunas de data/hora para o tipo datetime\n",
    "    df.lpep_dropoff_datetime = pd.to_datetime(df.lpep_dropoff_datetime)\n",
    "    df.lpep_pickup_datetime = pd.to_datetime(df.lpep_pickup_datetime)\n",
    "\n",
    "    # Calcula a duração da viagem em minutos, a partir da diferença entre o tempo de dropoff e pickup\n",
    "    df['duration'] = df.lpep_dropoff_datetime - df.lpep_pickup_datetime\n",
    "    df.duration = df.duration.apply(lambda td: td.total_seconds() / 60)  # Converte para minutos\n",
    "\n",
    "    # Filtra apenas viagens com duração entre 1 e 60 minutos\n",
    "    df = df[(df.duration >= 1) & (df.duration <= 60)]\n",
    "\n",
    "    # Converte os IDs das localizações para o tipo string (para tratar como variáveis categóricas)\n",
    "    categorical = ['PULocationID', 'DOLocationID']\n",
    "    df[categorical] = df[categorical].astype(str)\n",
    "    \n",
    "    return df\n",
    "\n",
    "# Função para pré-processamento dos dados, transformando variáveis categóricas e numéricas\n",
    "def preprocess(df, dv):\n",
    "    # Cria uma nova variável categórica combinando os IDs de pickup e dropoff\n",
    "    df['PU_DO'] = df['PULocationID'] + '_' + df['DOLocationID']\n",
    "    \n",
    "    # Define quais colunas serão categóricas e quais serão numéricas\n",
    "    categorical = ['PU_DO']\n",
    "    numerical = ['trip_distance']\n",
    "    \n",
    "    # Converte os dados em dicionários para aplicar transformações de vetorização (provavelmente 'dv' é um vetor de características)\n",
    "    train_dicts = df[categorical + numerical].to_dict(orient='records')\n",
    "    \n",
    "    # Aplica a transformação de vetorização aos dados categóricos e numéricos\n",
    "    return dv.transform(train_dicts)\n",
    "\n",
    "# Função para testar o modelo e calcular o RMSE\n",
    "def test_model(name, stage, X_test, y_test):\n",
    "    # Carrega o modelo treinado do MLflow usando seu nome e estágio\n",
    "    model = mlflow.pyfunc.load_model(f\"models:/{name}/{stage}\")\n",
    "    \n",
    "    # Faz previsões no conjunto de dados de teste\n",
    "    y_pred = model.predict(X_test)\n",
    "    \n",
    "    # Calcula o erro quadrático médio (RMSE) entre as previsões e os valores reais\n",
    "    return {\"rmse\": root_mean_squared_error(y_test, y_pred)}  # squared=False retorna o RMSE\n"
   ]
  },
  {
   "cell_type": "code",
   "execution_count": 24,
   "id": "2355b301-c446-482c-91df-e72d9cbd3260",
   "metadata": {},
   "outputs": [],
   "source": [
    "df = read_dataframe(\"/workspaces/mlops-techniques/01-Environment/data/green_tripdata_2021-03.parquet\")"
   ]
  },
  {
   "cell_type": "code",
   "execution_count": 26,
   "id": "3e3061c4-676d-4c80-9bcb-62cfc5e0f4f6",
   "metadata": {},
   "outputs": [],
   "source": [
    "import pickle\n",
    "\n",
    "with open(\"/workspaces/mlops-techniques/01-Environment/models/preprocessor.b\", \"rb\") as f_in:\n",
    "    dv = pickle.load(f_in)"
   ]
  },
  {
   "cell_type": "code",
   "execution_count": 27,
   "id": "497a29f0-a4f5-4cf7-82f6-19ee6a1249f8",
   "metadata": {},
   "outputs": [],
   "source": [
    "X_test = preprocess(df, dv)\n"
   ]
  },
  {
   "cell_type": "code",
   "execution_count": 28,
   "id": "76717fd9-6f56-4819-83ed-16eec2f4274e",
   "metadata": {},
   "outputs": [],
   "source": [
    "target = \"duration\"\n",
    "y_test = df[target].values"
   ]
  },
  {
   "cell_type": "code",
   "execution_count": 35,
   "id": "0d662ce7-93bc-4341-a0b4-eb2d3cd08a11",
   "metadata": {},
   "outputs": [],
   "source": [
    "#pip install xgboost"
   ]
  },
  {
   "cell_type": "code",
   "execution_count": 38,
   "id": "752a8835-dc5b-4047-93d5-dd538c88e3d9",
   "metadata": {},
   "outputs": [
    {
     "name": "stderr",
     "output_type": "stream",
     "text": [
      "/home/codespace/anaconda3/lib/python3.12/site-packages/mlflow/store/artifact/utils/models.py:31: FutureWarning: ``mlflow.tracking.client.MlflowClient.get_latest_versions`` is deprecated since 2.9.0. Model registry stages will be removed in a future major release. To learn more about the deprecation of model registry stages, see our migration guide here: https://mlflow.org/docs/latest/model-registry.html#migrating-from-stages\n",
      "  latest = client.get_latest_versions(name, None if stage is None else [stage])\n",
      "2025/01/12 15:47:07 WARNING mlflow.utils.requirements_utils: Detected one or more mismatches between the model's dependencies and the current Python environment:\n",
      " - numpy (current: 1.26.4, required: numpy==2.2.1)\n",
      "To fix the mismatches, call `mlflow.pyfunc.get_model_dependencies(model_uri)` to fetch the model's environment and install dependencies using the resulting environment file.\n"
     ]
    },
    {
     "name": "stdout",
     "output_type": "stream",
     "text": [
      "CPU times: user 16.2 s, sys: 32.2 ms, total: 16.3 s\n",
      "Wall time: 8.85 s\n"
     ]
    },
    {
     "data": {
      "text/plain": [
       "{'rmse': 6.2702965482607915}"
      ]
     },
     "execution_count": 38,
     "metadata": {},
     "output_type": "execute_result"
    }
   ],
   "source": [
    "%time test_model(name=model_name, stage=\"Production\", X_test=X_test, y_test=y_test)"
   ]
  },
  {
   "cell_type": "code",
   "execution_count": 40,
   "id": "14aaccf7-f4db-43d1-9ac8-5ae4d9ccae77",
   "metadata": {},
   "outputs": [],
   "source": [
    "#não salvei os artefatos dos modelos, não permite testar o model staging\n",
    "#%time test_model(name=model_name, stage=\"Staging\", X_test=X_test, y_test=y_test)"
   ]
  },
  {
   "cell_type": "code",
   "execution_count": 42,
   "id": "172928d8-ad29-4f31-b279-2e3dbf8542e8",
   "metadata": {},
   "outputs": [
    {
     "name": "stderr",
     "output_type": "stream",
     "text": [
      "/tmp/ipykernel_6604/2857919575.py:5: FutureWarning: ``mlflow.tracking.client.MlflowClient.transition_model_version_stage`` is deprecated since 2.9.0. Model registry stages will be removed in a future major release. To learn more about the deprecation of model registry stages, see our migration guide here: https://mlflow.org/docs/latest/model-registry.html#migrating-from-stages\n",
      "  client.transition_model_version_stage(\n"
     ]
    },
    {
     "data": {
      "text/plain": [
       "<ModelVersion: aliases=['production'], creation_timestamp=1736692074061, current_stage='Production', description='model registration test', last_updated_timestamp=1736697111145, name='taxi-regressor', run_id='db537e71f5ce45d2ad8a6a57210eac74', run_link='', source='/workspaces/mlops-techniques/02-Experiment-tracking/mlruns/1/db537e71f5ce45d2ad8a6a57210eac74/artifacts/models_mlflow', status='READY', status_message=None, tags={'model': 'Xgboost'}, user_id=None, version=1>"
      ]
     },
     "execution_count": 42,
     "metadata": {},
     "output_type": "execute_result"
    }
   ],
   "source": [
    "'''\n",
    "está movendo a versão 1 de um modelo para o estágio de \"Production\" no MLflow, \n",
    "enquanto arquiva as versões anteriores, garantindo que a versão mais recente seja utilizada em produção.\n",
    "'''\n",
    "client.transition_model_version_stage(\n",
    "    name=model_name,\n",
    "    version=1,\n",
    "    stage=\"Production\",\n",
    "    archive_existing_versions=True\n",
    ")"
   ]
  },
  {
   "cell_type": "code",
   "execution_count": null,
   "id": "a9390bac-c560-4eb5-a64b-f491c9fd6cf0",
   "metadata": {},
   "outputs": [],
   "source": []
  }
 ],
 "metadata": {
  "kernelspec": {
   "display_name": "Python 3 (ipykernel)",
   "language": "python",
   "name": "python3"
  },
  "language_info": {
   "codemirror_mode": {
    "name": "ipython",
    "version": 3
   },
   "file_extension": ".py",
   "mimetype": "text/x-python",
   "name": "python",
   "nbconvert_exporter": "python",
   "pygments_lexer": "ipython3",
   "version": "3.12.7"
  }
 },
 "nbformat": 4,
 "nbformat_minor": 5
}
