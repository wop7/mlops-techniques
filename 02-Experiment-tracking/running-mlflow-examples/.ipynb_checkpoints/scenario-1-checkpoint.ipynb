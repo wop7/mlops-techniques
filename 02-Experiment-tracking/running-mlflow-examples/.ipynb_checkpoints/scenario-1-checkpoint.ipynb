{
 "cells": [
  {
   "cell_type": "markdown",
   "id": "86612abc-658a-47eb-8dcc-8c962ca46292",
   "metadata": {},
   "source": [
    "### Scenario 1: A single data scientist participating in an ML compeatations\n",
    "\n",
    "MLflow Setup:\n",
    "\n",
    " * Tracking server: no\n",
    " * Backend store: local filesystem\n",
    " * Artifacts store: local filesystem"
   ]
  },
  {
   "cell_type": "code",
   "execution_count": 1,
   "id": "f4bea201-b82b-43e6-bcf3-7fec1e73c740",
   "metadata": {},
   "outputs": [],
   "source": [
    "import mlflow"
   ]
  },
  {
   "cell_type": "code",
   "execution_count": 2,
   "id": "a29a0c45-d0d5-4d43-8c73-d0138026534a",
   "metadata": {},
   "outputs": [
    {
     "name": "stdout",
     "output_type": "stream",
     "text": [
      "tracking URI: 'file:///workspaces/mlops-techniques/02-Experiment-tracking/running-mlflow-examples/mlruns'\n"
     ]
    }
   ],
   "source": [
    "#Address where MLflow experiments are being logged\n",
    "print(f\"tracking URI: '{mlflow.get_tracking_uri()}'\")"
   ]
  },
  {
   "cell_type": "code",
   "execution_count": 4,
   "id": "1e93e93b-0131-4cf9-bd72-a091c6ebe472",
   "metadata": {},
   "outputs": [
    {
     "data": {
      "text/plain": [
       "[<Experiment: artifact_location='file:///workspaces/mlops-techniques/02-Experiment-tracking/running-mlflow-examples/mlruns/0', creation_time=1737220586974, experiment_id='0', last_update_time=1737220586974, lifecycle_stage='active', name='Default', tags={}>]"
      ]
     },
     "execution_count": 4,
     "metadata": {},
     "output_type": "execute_result"
    }
   ],
   "source": [
    "mlflow.search_experiments()"
   ]
  },
  {
   "cell_type": "markdown",
   "id": "ca336b9e-8bfb-4985-a03f-b51cc7457c4f",
   "metadata": {},
   "source": [
    "#### Creating an experiment and logging a new run"
   ]
  },
  {
   "cell_type": "code",
   "execution_count": 5,
   "id": "58e611b5-0d38-45de-8096-e80bde1dc7ab",
   "metadata": {},
   "outputs": [
    {
     "name": "stderr",
     "output_type": "stream",
     "text": [
      "2025/01/18 17:18:39 INFO mlflow.tracking.fluent: Experiment with name 'my-experiment-1' does not exist. Creating a new experiment.\n",
      "\u001b[31m2025/01/18 17:18:43 WARNING mlflow.models.model: Model logged without a signature and input example. Please set `input_example` parameter when logging the model to auto infer the model signature.\u001b[0m\n"
     ]
    },
    {
     "name": "stdout",
     "output_type": "stream",
     "text": [
      "default artifacts URI: 'file:///workspaces/mlops-techniques/02-Experiment-tracking/running-mlflow-examples/mlruns/867037247802691643/211a9147db8c4f9eb578a9df2b3480a1/artifacts'\n"
     ]
    }
   ],
   "source": [
    "from sklearn.linear_model import LogisticRegression\n",
    "from sklearn.datasets import load_iris\n",
    "from sklearn.metrics import accuracy_score\n",
    "\n",
    "mlflow.set_experiment(\"my-experiment-1\")\n",
    "\n",
    "with mlflow.start_run():\n",
    "\n",
    "    X, y = load_iris(return_X_y=True)\n",
    "\n",
    "    params = {\"C\": 0.1, \"random_state\": 42}\n",
    "    mlflow.log_params(params)\n",
    "\n",
    "    lr = LogisticRegression(**params).fit(X, y)\n",
    "    y_pred = lr.predict(X)\n",
    "    mlflow.log_metric(\"accuracy\", accuracy_score(y, y_pred))\n",
    "\n",
    "    #save artifact model\n",
    "    mlflow.sklearn.log_model(lr, artifact_path=\"models\")\n",
    "    print(f\"default artifacts URI: '{mlflow.get_artifact_uri()}'\")"
   ]
  },
  {
   "cell_type": "code",
   "execution_count": 9,
   "id": "e1834d2c-dcc5-4bfe-bceb-73112930e111",
   "metadata": {},
   "outputs": [
    {
     "data": {
      "text/plain": [
       "[<Experiment: artifact_location='file:///workspaces/mlops-techniques/02-Experiment-tracking/running-mlflow-examples/mlruns/867037247802691643', creation_time=1737220719892, experiment_id='867037247802691643', last_update_time=1737220719892, lifecycle_stage='active', name='my-experiment-1', tags={}>,\n",
       " <Experiment: artifact_location='file:///workspaces/mlops-techniques/02-Experiment-tracking/running-mlflow-examples/mlruns/0', creation_time=1737220586974, experiment_id='0', last_update_time=1737220586974, lifecycle_stage='active', name='Default', tags={}>]"
      ]
     },
     "execution_count": 9,
     "metadata": {},
     "output_type": "execute_result"
    }
   ],
   "source": [
    "mlflow.search_experiments()"
   ]
  },
  {
   "cell_type": "markdown",
   "id": "9cc6eed7-8404-4cf7-a88b-7dea29c932a0",
   "metadata": {},
   "source": [
    "### Interacting with the model registry"
   ]
  },
  {
   "cell_type": "code",
   "execution_count": 10,
   "id": "2160c176-01cf-4ad8-ae28-78fa17bd8ac0",
   "metadata": {},
   "outputs": [],
   "source": [
    "#interact with the tracking server\n",
    "from mlflow.tracking import MlflowClient\n",
    "\n",
    "\n",
    "client = MlflowClient()"
   ]
  },
  {
   "cell_type": "code",
   "execution_count": 13,
   "id": "30710743-2e90-49c4-b121-b2323373589b",
   "metadata": {},
   "outputs": [],
   "source": [
    "from mlflow.exceptions import MlflowException\n",
    "\n",
    "#check if it is possible to access the MLflow registry\n",
    "try:\n",
    "    client.search_registered_models()\n",
    "except MlflowException:\n",
    "    print(\"It's not possible to access the model registry :(\")"
   ]
  }
 ],
 "metadata": {
  "kernelspec": {
   "display_name": "Python 3 (ipykernel)",
   "language": "python",
   "name": "python3"
  },
  "language_info": {
   "codemirror_mode": {
    "name": "ipython",
    "version": 3
   },
   "file_extension": ".py",
   "mimetype": "text/x-python",
   "name": "python",
   "nbconvert_exporter": "python",
   "pygments_lexer": "ipython3",
   "version": "3.12.8"
  }
 },
 "nbformat": 4,
 "nbformat_minor": 5
}
